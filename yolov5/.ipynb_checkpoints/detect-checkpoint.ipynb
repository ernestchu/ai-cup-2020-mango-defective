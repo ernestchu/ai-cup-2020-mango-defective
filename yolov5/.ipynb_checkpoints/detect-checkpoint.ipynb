{
 "cells": [
  {
   "cell_type": "code",
   "execution_count": 1,
   "metadata": {},
   "outputs": [
    {
     "name": "stdout",
     "output_type": "stream",
     "text": [
      "usage: mydetect.py [-h] [--weights WEIGHTS [WEIGHTS ...]] [--source SOURCE]\n",
      "                   [--img-size IMG_SIZE] [--conf-thres CONF_THRES]\n",
      "                   [--iou-thres IOU_THRES] [--device DEVICE] [--view-img]\n",
      "                   [--save-txt] [--save-conf]\n",
      "                   [--classes CLASSES [CLASSES ...]] [--agnostic-nms]\n",
      "                   [--augment] [--update] [--project PROJECT] [--name NAME]\n",
      "                   [--exist-ok]\n",
      "mydetect.py: error: unrecognized arguments: --save_txt\n"
     ]
    }
   ],
   "source": [
    "!python3 mydetect.py --weights runs/train/exp5/weights/best.pt --save-txt --img 640 --conf 0.25 --source ../mango_data/images/Test"
   ]
  },
  {
   "cell_type": "code",
   "execution_count": null,
   "metadata": {},
   "outputs": [],
   "source": []
  }
 ],
 "metadata": {
  "kernelspec": {
   "display_name": "Python 3",
   "language": "python",
   "name": "python3"
  },
  "language_info": {
   "codemirror_mode": {
    "name": "ipython",
    "version": 3
   },
   "file_extension": ".py",
   "mimetype": "text/x-python",
   "name": "python",
   "nbconvert_exporter": "python",
   "pygments_lexer": "ipython3",
   "version": "3.6.8"
  }
 },
 "nbformat": 4,
 "nbformat_minor": 4
}
