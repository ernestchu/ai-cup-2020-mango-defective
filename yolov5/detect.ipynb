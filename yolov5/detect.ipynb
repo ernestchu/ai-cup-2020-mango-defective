{
 "cells": [
  {
   "cell_type": "code",
   "execution_count": 1,
   "metadata": {},
   "outputs": [
    {
     "name": "stdout",
     "output_type": "stream",
     "text": [
      "Namespace(agnostic_nms=False, augment=False, classes=None, conf_thres=0.25, device='', exist_ok=False, img_size=640, iou_thres=0.45, name='exp', project='runs/detect', save_conf=False, save_txt=True, source='../mango_data/images/Test', update=False, view_img=False, weights=['runs/train/exp5/weights/best.pt'])\n",
      "Using torch 1.7.0 CUDA:0 (Tesla P100-PCIE-16GB, 16280.875MB)\n",
      "\n",
      "\n",
      "Fusing layers... \n",
      "Model Summary: 224 layers, 7064698 parameters, 0 gradients, 16.4 GFLOPS\n",
      "image 1/7363 /home/b073040018/Machine_Learning/Mango/mango_data/images/Test/00015.jpg: 480x640 5 D3s, Done. (0.015s)\n",
      "image 2/7363 /home/b073040018/Machine_Learning/Mango/mango_data/images/Test/00024.jpg: 384x640 1 D4s, Done. (0.014s)\n",
      "image 3/7363 /home/b073040018/Machine_Learning/Mango/mango_data/images/Test/00034.jpg: 640x480 Done. (0.013s)\n",
      "image 4/7363 /home/b073040018/Machine_Learning/Mango/mango_data/images/Test/00042.jpg: 640x480 1 D3s, Done. (0.012s)\n",
      "image 5/7363 /home/b073040018/Machine_Learning/Mango/mango_data/images/Test/00048.jpg: 384x640 1 D3s, 1 D4s, Done. (0.013s)\n",
      "image 6/7363 /home/b073040018/Machine_Learning/Mango/mango_data/images/Test/00053.jpg: 384x640 Done. (0.011s)\n",
      "image 7/7363 /home/b073040018/Machine_Learning/Mango/mango_data/images/Test/00055.jpg: 480x640 2 D3s, Done. (0.014s)\n",
      "image 8/7363 /home/b073040018/Machine_Learning/Mango/mango_data/images/Test/00058.jpg: 384x640 2 D4s, Done. (0.014s)\n",
      "image 9/7363 /home/b073040018/Machine_Learning/Mango/mango_data/images/Test/00061.jpg: 384x640 1 D3s, 2 D4s, Done. (0.012s)\n",
      "image 10/7363 /home/b073040018/Machine_Learning/Mango/mango_data/images/Test/00071.jpg: 640x480 2 D3s, Done. (0.014s)\n",
      "image 11/7363 /home/b073040018/Machine_Learning/Mango/mango_data/images/Test/00074.jpg: 384x640 2 D3s, Done. (0.014s)\n",
      "image 12/7363 /home/b073040018/Machine_Learning/Mango/mango_data/images/Test/00083.jpg: 480x640 Done. (0.013s)\n",
      "image 13/7363 /home/b073040018/Machine_Learning/Mango/mango_data/images/Test/00084.jpg: 480x640 3 D3s, Done. (0.013s)\n",
      "image 14/7363 /home/b073040018/Machine_Learning/Mango/mango_data/images/Test/00085.jpg: 480x640 1 D3s, Done. (0.013s)\n",
      "image 15/7363 /home/b073040018/Machine_Learning/Mango/mango_data/images/Test/00088.jpg: 640x480 Done. (0.012s)\n",
      "image 16/7363 /home/b073040018/Machine_Learning/Mango/mango_data/images/Test/00110.jpg: 384x640 1 D3s, 1 D4s, Done. (0.013s)\n",
      "image 17/7363 /home/b073040018/Machine_Learning/Mango/mango_data/images/Test/00120.jpg: 480x640 2 D3s, Done. (0.014s)\n",
      "image 18/7363 /home/b073040018/Machine_Learning/Mango/mango_data/images/Test/00121.jpg: 384x640 Done. (0.013s)\n",
      "image 19/7363 /home/b073040018/Machine_Learning/Mango/mango_data/images/Test/00122.jpg: 384x640 Done. (0.011s)\n",
      "image 20/7363 /home/b073040018/Machine_Learning/Mango/mango_data/images/Test/00126.jpg: 480x640 2 D3s, Done. (0.014s)\n",
      "image 21/7363 /home/b073040018/Machine_Learning/Mango/mango_data/images/Test/00130.jpg: 384x640 1 D4s, Done. (0.014s)\n",
      "image 22/7363 /home/b073040018/Machine_Learning/Mango/mango_data/images/Test/00134.jpg: 384x640 2 D3s, Done. (0.013s)\n",
      "image 23/7363 /home/b073040018/Machine_Learning/Mango/mango_data/images/Test/00143.jpg: 384x640 2 D4s, Done. (0.012s)\n",
      "image 24/7363 /home/b073040018/Machine_Learning/Mango/mango_data/images/Test/00158.jpg: 384x640 1 D4s, Done. (0.013s)\n",
      "image 25/7363 /home/b073040018/Machine_Learning/Mango/mango_data/images/Test/00169.jpg: 384x640 1 D3s, Done. (0.012s)\n",
      "image 26/7363 /home/b073040018/Machine_Learning/Mango/mango_data/images/Test/00172.jpg: 640x480 1 D3s, Done. (0.014s)\n",
      "image 27/7363 /home/b073040018/Machine_Learning/Mango/mango_data/images/Test/00176.jpg: 384x640 1 D4s, Done. (0.014s)\n",
      "image 28/7363 /home/b073040018/Machine_Learning/Mango/mango_data/images/Test/00191.jpg: 384x640 Done. (0.013s)\n",
      "image 29/7363 /home/b073040018/Machine_Learning/Mango/mango_data/images/Test/00195.jpg: 384x640 1 D4s, Done. (0.013s)\n",
      "image 30/7363 /home/b073040018/Machine_Learning/Mango/mango_data/images/Test/00196.jpg: 640x480 1 D3s, Done. (0.014s)\n",
      "image 31/7363 /home/b073040018/Machine_Learning/Mango/mango_data/images/Test/00220.jpg: 384x640 1 D3s, 1 D4s, Done. (0.014s)\n",
      "image 32/7363 /home/b073040018/Machine_Learning/Mango/mango_data/images/Test/00234.jpg: 384x640 Done. (0.012s)\n",
      "image 33/7363 /home/b073040018/Machine_Learning/Mango/mango_data/images/Test/00239.jpg: 480x640 Done. (0.013s)\n",
      "image 34/7363 /home/b073040018/Machine_Learning/Mango/mango_data/images/Test/00241.jpg: 480x640 1 D3s, Done. (0.012s)\n",
      "image 35/7363 /home/b073040018/Machine_Learning/Mango/mango_data/images/Test/00242.jpg: 480x640 1 D3s, Done. (0.012s)\n",
      "image 36/7363 /home/b073040018/Machine_Learning/Mango/mango_data/images/Test/00244.jpg: 480x640 Done. (0.012s)\n",
      "image 37/7363 /home/b073040018/Machine_Learning/Mango/mango_data/images/Test/00247.jpg: 480x640 Done. (0.011s)\n",
      "image 38/7363 /home/b073040018/Machine_Learning/Mango/mango_data/images/Test/00269.jpg: 480x640 1 D4s, Done. (0.013s)\n",
      "image 39/7363 /home/b073040018/Machine_Learning/Mango/mango_data/images/Test/00272.jpg: 384x640 1 D4s, Done. (0.013s)\n",
      "image 40/7363 /home/b073040018/Machine_Learning/Mango/mango_data/images/Test/00277.jpg: 384x640 1 D4s, Done. (0.013s)\n",
      "image 41/7363 /home/b073040018/Machine_Learning/Mango/mango_data/images/Test/00278.jpg: 384x640 2 D4s, Done. (0.012s)\n",
      "image 42/7363 /home/b073040018/Machine_Learning/Mango/mango_data/images/Test/00279.jpg: 384x640 2 D4s, Done. (0.013s)\n",
      "image 43/7363 /home/b073040018/Machine_Learning/Mango/mango_data/images/Test/00288.jpg: 384x640 1 D3s, 1 D4s, Done. (0.012s)\n",
      "image 44/7363 /home/b073040018/Machine_Learning/Mango/mango_data/images/Test/00296.jpg: 480x640 1 D4s, Done. (0.014s)\n",
      "image 45/7363 /home/b073040018/Machine_Learning/Mango/mango_data/images/Test/00310.jpg: 384x640 2 D3s, Done. (0.013s)\n",
      "image 46/7363 /home/b073040018/Machine_Learning/Mango/mango_data/images/Test/00326.jpg: 480x640 3 D3s, Done. (0.015s)\n",
      "image 47/7363 /home/b073040018/Machine_Learning/Mango/mango_data/images/Test/00327.jpg: 480x640 3 D3s, Done. (0.012s)\n",
      "^C\n",
      "Traceback (most recent call last):\n",
      "  File \"mydetect.py\", line 173, in <module>\n",
      "    detect()\n",
      "  File \"mydetect.py\", line 62, in detect\n",
      "    for path, img, im0s, vid_cap in dataset:\n",
      "  File \"/home/b073040018/Machine_Learning/Mango/yolov5/utils/datasets.py\", line 179, in __next__\n",
      "    img0 = cv2.imread(path)  # BGR\n",
      "KeyboardInterrupt\n"
     ]
    }
   ],
   "source": [
    "!python3 mydetect.py --weights runs/train/exp5/weights/best.pt --save-txt --img 640 --conf 0.25 --source ../mango_data/images/Test"
   ]
  },
  {
   "cell_type": "code",
   "execution_count": null,
   "metadata": {},
   "outputs": [],
   "source": []
  }
 ],
 "metadata": {
  "kernelspec": {
   "display_name": "Python 3",
   "language": "python",
   "name": "python3"
  },
  "language_info": {
   "codemirror_mode": {
    "name": "ipython",
    "version": 3
   },
   "file_extension": ".py",
   "mimetype": "text/x-python",
   "name": "python",
   "nbconvert_exporter": "python",
   "pygments_lexer": "ipython3",
   "version": "3.6.8"
  }
 },
 "nbformat": 4,
 "nbformat_minor": 4
}
